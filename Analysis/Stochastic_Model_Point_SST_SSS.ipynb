{
 "cells": [
  {
   "cell_type": "markdown",
   "id": "5963633c-9c2c-45da-bada-bb48a66fe954",
   "metadata": {},
   "source": [
    "# Entraining Stochastic Model for SST and SSS\n",
    "\n",
    "Rewrite of stochastic model point experiments. Take from stochmod_point\n",
    "\n",
    "\n",
    "## Inputs:\n",
    "\n",
    "Constants:\n",
    " - rho  [kg/m3]  : Density\n",
    " - L    [J/kg]   : Specific Heat of Evaporation \n",
    " - B             : Bowen Ratio\n",
    " - cp  [J/kg/K]  : Specific Heat\n",
    "\n",
    "Both:\n",
    " - MLD [meters] : (ARRAY: [12,]) - Mixed-layer depth\n",
    "\n",
    "\n",
    "SST Eqn:\n",
    " - Atmospheric Damping [W/m2/C] : [12] Can be Net, or specific flux\n",
    " - Forcing Amplitude   [W/m2]   : [12 x EOF_Mode]\n",
    "\n",
    "SSS Eqn:\n",
    " - Precipitation Forcing : \n",
    " - Evaporation Forcing   : \n",
    " - Sbar                  : (ARRAY: [12,]) Mean Salinity\n",
    "\n",
    "Process\n",
    "\n",
    "1. Do Unit Conversions + Preprocessing (calculate kprev, make forcingetc)\n",
    "2. Run SST Model\n",
    "3. Run SSS Model\n",
    "4. Compute Metrics\n",
    "5. Compare with CESM1\n",
    "\n",
    "\n"
   ]
  },
  {
   "cell_type": "code",
   "execution_count": 6,
   "id": "823c58ac-9b51-4bf6-885e-05bbf2882d61",
   "metadata": {
    "tags": []
   },
   "outputs": [],
   "source": [
    "import numpy as np\n",
    "import sys\n",
    "import os\n",
    "import xarray as xr\n"
   ]
  },
  {
   "cell_type": "code",
   "execution_count": 5,
   "id": "3f68ac7a-8768-4b7f-8d11-38f63d217443",
   "metadata": {
    "tags": []
   },
   "outputs": [],
   "source": [
    "# User Edits"
   ]
  },
  {
   "cell_type": "code",
   "execution_count": null,
   "id": "540cdfa7-ed8b-48f7-878e-6e61d9bbb965",
   "metadata": {},
   "outputs": [],
   "source": [
    "# Define Simple Functions\n",
    "\n",
    "\n"
   ]
  },
  {
   "cell_type": "code",
   "execution_count": null,
   "id": "6b64938a-4560-45dd-a952-2ecc6d2cb36c",
   "metadata": {},
   "outputs": [],
   "source": [
    "# Declare Constants\n",
    "\n",
    "dt         = 3600*24*30 # Timestep [s]\n",
    "cp         = 3850       # \n",
    "rho        = 1026       # Density [kg/m3]\n",
    "B          = 0.2        # Bowen Ratio, from Frankignoul et al 1998\n",
    "L          = 2.5e6      # Specific Heat of Evaporation [J/kg], from SSS model document"
   ]
  },
  {
   "cell_type": "code",
   "execution_count": 4,
   "id": "97b56ed4-6faa-41b2-b69e-9e27c2e6ae77",
   "metadata": {
    "tags": []
   },
   "outputs": [],
   "source": [
    "# Load Inputs"
   ]
  },
  {
   "cell_type": "code",
   "execution_count": null,
   "id": "04dbe11a-d45d-4bea-bc28-4da2e8937a71",
   "metadata": {},
   "outputs": [],
   "source": [
    "\n"
   ]
  }
 ],
 "metadata": {
  "kernelspec": {
   "display_name": "Python 3 (ipykernel)",
   "language": "python",
   "name": "python3"
  },
  "language_info": {
   "codemirror_mode": {
    "name": "ipython",
    "version": 3
   },
   "file_extension": ".py",
   "mimetype": "text/x-python",
   "name": "python",
   "nbconvert_exporter": "python",
   "pygments_lexer": "ipython3",
   "version": "3.9.13"
  }
 },
 "nbformat": 4,
 "nbformat_minor": 5
}
