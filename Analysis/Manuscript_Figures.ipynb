{
 "cells": [
  {
   "cell_type": "markdown",
   "id": "e4e5930a-29d8-4f19-b881-5508bd581f3e",
   "metadata": {},
   "source": [
    "# Figures for Physical Insights from the Multidecadal Prediction of North Atlantic Sea Surface Temperature Variability Using Explainable Neural Networks\n",
    "Glenn Liu, Peidong Wang, Young-Oh Kwon\n",
    "\n",
    "This notebook contains code used to generate the main figures (or figure components) of the manuscript.\n",
    "\n",
    "### General Format for each figure\n",
    "1. Load Data\n",
    "2. Preprocess Data\n",
    "3. Make Figure\n"
   ]
  },
  {
   "cell_type": "code",
   "execution_count": null,
   "id": "f24935e6-a5f7-467c-a02e-3e252f932084",
   "metadata": {},
   "outputs": [],
   "source": [
    "# Import Packages\n",
    "\n",
    "# Figure 1\n",
    "# import sys\n",
    "# import numpy as np\n",
    "# import os\n",
    "# import time\n",
    "# import tqdm\n",
    "# import torch\n",
    "# #from torch import nn\n",
    "# #from torch.utils.data import DataLoader, TensorDataset,Dataset\n",
    "# import matplotlib.pyplot as plt\n",
    "# import cartopy.crs as ccrs\n"
   ]
  },
  {
   "cell_type": "code",
   "execution_count": 2,
   "id": "533aa31f-56d3-482a-86bc-df18739158c0",
   "metadata": {},
   "outputs": [],
   "source": [
    "# User Edits\n"
   ]
  },
  {
   "cell_type": "markdown",
   "id": "6791b809-d6ad-48c4-9ad2-6c89deb23fa3",
   "metadata": {},
   "source": [
    "## Figure 1: Fully-Connected Neural Network Schematic\n",
    "\n",
    "The figure was assembeled in Inkscape. This notebook generates an example of the predictors and AMV Index used for the prediction"
   ]
  },
  {
   "cell_type": "code",
   "execution_count": 3,
   "id": "7f95a7e6-3764-4588-a036-30f727a5738c",
   "metadata": {},
   "outputs": [],
   "source": [
    "# Figure 1\n"
   ]
  },
  {
   "cell_type": "markdown",
   "id": "5af44a4e-19c4-41f7-b9b2-f336dbe319a8",
   "metadata": {},
   "source": [
    "## Figure 2: Mean Accuracy by Leadtime"
   ]
  },
  {
   "cell_type": "code",
   "execution_count": 4,
   "id": "2e621028-9762-47ed-bb1d-8d0747301862",
   "metadata": {},
   "outputs": [],
   "source": [
    "# Figure 2"
   ]
  },
  {
   "cell_type": "markdown",
   "id": "23e1f679-1416-4708-a686-66966d5d49ec",
   "metadata": {},
   "source": [
    "## Figure 3"
   ]
  },
  {
   "cell_type": "code",
   "execution_count": 5,
   "id": "4798708a-191d-4c83-9687-1d31f3866582",
   "metadata": {},
   "outputs": [],
   "source": [
    "# Figure 3"
   ]
  },
  {
   "cell_type": "markdown",
   "id": "69d14835-e011-407c-84e1-7239818175c3",
   "metadata": {},
   "source": [
    "## Figure 4"
   ]
  },
  {
   "cell_type": "code",
   "execution_count": 6,
   "id": "04209a73-3ab9-445e-a654-95b7afb0a607",
   "metadata": {},
   "outputs": [],
   "source": [
    "# Figure 4"
   ]
  },
  {
   "cell_type": "code",
   "execution_count": null,
   "id": "41ccddc6-a6fb-479b-bc2f-8e2cdb8e3d03",
   "metadata": {},
   "outputs": [],
   "source": []
  },
  {
   "cell_type": "code",
   "execution_count": null,
   "id": "315847ad-c608-42e2-828c-f71c64f8d4ea",
   "metadata": {},
   "outputs": [],
   "source": []
  }
 ],
 "metadata": {
  "kernelspec": {
   "display_name": "Python 3 (ipykernel)",
   "language": "python",
   "name": "python3"
  },
  "language_info": {
   "codemirror_mode": {
    "name": "ipython",
    "version": 3
   },
   "file_extension": ".py",
   "mimetype": "text/x-python",
   "name": "python",
   "nbconvert_exporter": "python",
   "pygments_lexer": "ipython3",
   "version": "3.10.12"
  }
 },
 "nbformat": 4,
 "nbformat_minor": 5
}
